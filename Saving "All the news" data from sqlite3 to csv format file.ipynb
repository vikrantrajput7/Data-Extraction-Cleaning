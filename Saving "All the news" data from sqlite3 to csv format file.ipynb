{
 "cells": [
  {
   "cell_type": "code",
   "execution_count": 1,
   "metadata": {},
   "outputs": [],
   "source": [
    "import sqlite3\n",
    "import pandas as pd"
   ]
  },
  {
   "cell_type": "code",
   "execution_count": 2,
   "metadata": {},
   "outputs": [],
   "source": [
    "data=sqlite3.connect('all-the-news.db')\n"
   ]
  },
  {
   "cell_type": "code",
   "execution_count": 3,
   "metadata": {},
   "outputs": [
    {
     "name": "stdout",
     "output_type": "stream",
     "text": [
      "[('longform',)]\n"
     ]
    }
   ],
   "source": [
    "def sql_fetch(data):\n",
    "    cursorObj=data.cursor()\n",
    "    cursorObj.execute('select name from sqlite_master where type=\"table\"')\n",
    "    print(cursorObj.fetchall())\n",
    "sql_fetch(data)                      "
   ]
  },
  {
   "cell_type": "code",
   "execution_count": 4,
   "metadata": {},
   "outputs": [],
   "source": [
    "df = pd.read_sql_query(\"SELECT * FROM longform\", data)"
   ]
  },
  {
   "cell_type": "code",
   "execution_count": 5,
   "metadata": {},
   "outputs": [
    {
     "data": {
      "text/html": [
       "<div>\n",
       "<style scoped>\n",
       "    .dataframe tbody tr th:only-of-type {\n",
       "        vertical-align: middle;\n",
       "    }\n",
       "\n",
       "    .dataframe tbody tr th {\n",
       "        vertical-align: top;\n",
       "    }\n",
       "\n",
       "    .dataframe thead th {\n",
       "        text-align: right;\n",
       "    }\n",
       "</style>\n",
       "<table border=\"1\" class=\"dataframe\">\n",
       "  <thead>\n",
       "    <tr style=\"text-align: right;\">\n",
       "      <th></th>\n",
       "      <th>id</th>\n",
       "      <th>title</th>\n",
       "      <th>author</th>\n",
       "      <th>date</th>\n",
       "      <th>content</th>\n",
       "      <th>year</th>\n",
       "      <th>month</th>\n",
       "      <th>publication</th>\n",
       "      <th>category</th>\n",
       "      <th>digital</th>\n",
       "      <th>section</th>\n",
       "      <th>url</th>\n",
       "    </tr>\n",
       "  </thead>\n",
       "  <tbody>\n",
       "    <tr>\n",
       "      <th>0</th>\n",
       "      <td>1</td>\n",
       "      <td>Agent Cooper in Twin Peaks is the audience: on...</td>\n",
       "      <td>\\nTasha Robinson\\n</td>\n",
       "      <td>2017-05-31</td>\n",
       "      <td>And never more so than in Showtime’s new...</td>\n",
       "      <td>2017</td>\n",
       "      <td>5</td>\n",
       "      <td>Verge</td>\n",
       "      <td>Longform</td>\n",
       "      <td>1.0</td>\n",
       "      <td>None</td>\n",
       "      <td>None</td>\n",
       "    </tr>\n",
       "    <tr>\n",
       "      <th>1</th>\n",
       "      <td>2</td>\n",
       "      <td>AI, the humanity!</td>\n",
       "      <td>\\nSam Byford\\n</td>\n",
       "      <td>2017-05-30</td>\n",
       "      <td>AlphaGo’s victory isn’t a defeat for hum...</td>\n",
       "      <td>2017</td>\n",
       "      <td>5</td>\n",
       "      <td>Verge</td>\n",
       "      <td>Longform</td>\n",
       "      <td>1.0</td>\n",
       "      <td>None</td>\n",
       "      <td>None</td>\n",
       "    </tr>\n",
       "    <tr>\n",
       "      <th>2</th>\n",
       "      <td>3</td>\n",
       "      <td>The Viral Machine</td>\n",
       "      <td>\\nKaitlyn Tiffany\\n</td>\n",
       "      <td>2017-05-25</td>\n",
       "      <td>Super Deluxe built a weird internet empi...</td>\n",
       "      <td>2017</td>\n",
       "      <td>5</td>\n",
       "      <td>Verge</td>\n",
       "      <td>Longform</td>\n",
       "      <td>1.0</td>\n",
       "      <td>None</td>\n",
       "      <td>None</td>\n",
       "    </tr>\n",
       "    <tr>\n",
       "      <th>3</th>\n",
       "      <td>4</td>\n",
       "      <td>How Anker is beating Apple and Samsung at thei...</td>\n",
       "      <td>\\nNick Statt\\n</td>\n",
       "      <td>2017-05-22</td>\n",
       "      <td>Steven Yang quit his job at Google in th...</td>\n",
       "      <td>2017</td>\n",
       "      <td>5</td>\n",
       "      <td>Verge</td>\n",
       "      <td>Longform</td>\n",
       "      <td>1.0</td>\n",
       "      <td>None</td>\n",
       "      <td>None</td>\n",
       "    </tr>\n",
       "    <tr>\n",
       "      <th>4</th>\n",
       "      <td>5</td>\n",
       "      <td>Tour Black Panther’s reimagined homeland with ...</td>\n",
       "      <td>\\nKwame Opam\\n</td>\n",
       "      <td>2017-05-15</td>\n",
       "      <td>Ahead of Black Panther’s 2018 theatrical...</td>\n",
       "      <td>2017</td>\n",
       "      <td>5</td>\n",
       "      <td>Verge</td>\n",
       "      <td>Longform</td>\n",
       "      <td>1.0</td>\n",
       "      <td>None</td>\n",
       "      <td>None</td>\n",
       "    </tr>\n",
       "  </tbody>\n",
       "</table>\n",
       "</div>"
      ],
      "text/plain": [
       "   id                                              title               author  \\\n",
       "0   1  Agent Cooper in Twin Peaks is the audience: on...   \\nTasha Robinson\\n   \n",
       "1   2                                  AI, the humanity!       \\nSam Byford\\n   \n",
       "2   3                                  The Viral Machine  \\nKaitlyn Tiffany\\n   \n",
       "3   4  How Anker is beating Apple and Samsung at thei...       \\nNick Statt\\n   \n",
       "4   5  Tour Black Panther’s reimagined homeland with ...       \\nKwame Opam\\n   \n",
       "\n",
       "         date                                            content  year month  \\\n",
       "0  2017-05-31        And never more so than in Showtime’s new...  2017     5   \n",
       "1  2017-05-30        AlphaGo’s victory isn’t a defeat for hum...  2017     5   \n",
       "2  2017-05-25        Super Deluxe built a weird internet empi...  2017     5   \n",
       "3  2017-05-22        Steven Yang quit his job at Google in th...  2017     5   \n",
       "4  2017-05-15        Ahead of Black Panther’s 2018 theatrical...  2017     5   \n",
       "\n",
       "  publication  category  digital section   url  \n",
       "0       Verge  Longform      1.0    None  None  \n",
       "1       Verge  Longform      1.0    None  None  \n",
       "2       Verge  Longform      1.0    None  None  \n",
       "3       Verge  Longform      1.0    None  None  \n",
       "4       Verge  Longform      1.0    None  None  "
      ]
     },
     "execution_count": 5,
     "metadata": {},
     "output_type": "execute_result"
    }
   ],
   "source": [
    "df.head(5)"
   ]
  },
  {
   "cell_type": "code",
   "execution_count": 6,
   "metadata": {},
   "outputs": [
    {
     "data": {
      "text/plain": [
       "(204135, 12)"
      ]
     },
     "execution_count": 6,
     "metadata": {},
     "output_type": "execute_result"
    }
   ],
   "source": [
    "df.shape"
   ]
  },
  {
   "cell_type": "code",
   "execution_count": 9,
   "metadata": {},
   "outputs": [
    {
     "data": {
      "text/plain": [
       "id             False\n",
       "title          False\n",
       "author          True\n",
       "date            True\n",
       "content         True\n",
       "year            True\n",
       "month           True\n",
       "publication     True\n",
       "category        True\n",
       "digital         True\n",
       "section         True\n",
       "url             True\n",
       "dtype: bool"
      ]
     },
     "execution_count": 9,
     "metadata": {},
     "output_type": "execute_result"
    }
   ],
   "source": [
    "df.isna().any()"
   ]
  },
  {
   "cell_type": "code",
   "execution_count": 10,
   "metadata": {},
   "outputs": [],
   "source": [
    "ndf=pd.DataFrame(data=df[\"content\"],columns=[\"Articles\"])"
   ]
  },
  {
   "cell_type": "code",
   "execution_count": 12,
   "metadata": {},
   "outputs": [],
   "source": [
    "ndf[\"Articles\"]=df[\"content\"]"
   ]
  },
  {
   "cell_type": "code",
   "execution_count": 14,
   "metadata": {},
   "outputs": [],
   "source": [
    "ndf[\"Headline\"]=df[\"title\"]"
   ]
  },
  {
   "cell_type": "code",
   "execution_count": 17,
   "metadata": {},
   "outputs": [
    {
     "data": {
      "text/plain": [
       "Articles     True\n",
       "Headline    False\n",
       "dtype: bool"
      ]
     },
     "execution_count": 17,
     "metadata": {},
     "output_type": "execute_result"
    }
   ],
   "source": [
    "ndf.isna().any()"
   ]
  },
  {
   "cell_type": "code",
   "execution_count": 18,
   "metadata": {},
   "outputs": [
    {
     "data": {
      "text/html": [
       "<div>\n",
       "<style scoped>\n",
       "    .dataframe tbody tr th:only-of-type {\n",
       "        vertical-align: middle;\n",
       "    }\n",
       "\n",
       "    .dataframe tbody tr th {\n",
       "        vertical-align: top;\n",
       "    }\n",
       "\n",
       "    .dataframe thead th {\n",
       "        text-align: right;\n",
       "    }\n",
       "</style>\n",
       "<table border=\"1\" class=\"dataframe\">\n",
       "  <thead>\n",
       "    <tr style=\"text-align: right;\">\n",
       "      <th></th>\n",
       "      <th>Articles</th>\n",
       "      <th>Headline</th>\n",
       "    </tr>\n",
       "  </thead>\n",
       "  <tbody>\n",
       "    <tr>\n",
       "      <th>204115</th>\n",
       "      <td>Adam Wilk, a Mets left-hander who had not pitc...</td>\n",
       "      <td>After Matt Harvey Is Disciplined, Mets Fill-In...</td>\n",
       "    </tr>\n",
       "    <tr>\n",
       "      <th>204116</th>\n",
       "      <td>The following is the text of a statement relea...</td>\n",
       "      <td>Text of Beverly Young Nelson’s Accusation Agai...</td>\n",
       "    </tr>\n",
       "    <tr>\n",
       "      <th>204117</th>\n",
       "      <td></td>\n",
       "      <td>Comey’s Testimony Before the Senate Intelligen...</td>\n",
       "    </tr>\n",
       "    <tr>\n",
       "      <th>204118</th>\n",
       "      <td>None</td>\n",
       "      <td>When They Say ‘State Your Name,’ She Says: ‘Ye...</td>\n",
       "    </tr>\n",
       "    <tr>\n",
       "      <th>204119</th>\n",
       "      <td>CAIRO — President Abdel Fattah el-Sisi of Egyp...</td>\n",
       "      <td>Egyptian President Agrees to Cede 2 Islands to...</td>\n",
       "    </tr>\n",
       "    <tr>\n",
       "      <th>204120</th>\n",
       "      <td>REZU AMTALI, Bangladesh — They stumble down mu...</td>\n",
       "      <td>Desperate Rohingya Flee Myanmar on Trail of Su...</td>\n",
       "    </tr>\n",
       "    <tr>\n",
       "      <th>204121</th>\n",
       "      <td>None</td>\n",
       "      <td>What (if Anything) Does Carter Page Know? - Th...</td>\n",
       "    </tr>\n",
       "    <tr>\n",
       "      <th>204122</th>\n",
       "      <td>None</td>\n",
       "      <td>Opinion | The Autumn of the Oscars - The New Y...</td>\n",
       "    </tr>\n",
       "    <tr>\n",
       "      <th>204123</th>\n",
       "      <td>Rick Rojas is a reporter for The Times who gre...</td>\n",
       "      <td>My Unforgettable Drive Home to Beaumont, Texas...</td>\n",
       "    </tr>\n",
       "    <tr>\n",
       "      <th>204124</th>\n",
       "      <td>LONDON — You might call it a triumphal return:...</td>\n",
       "      <td>How Taking Flight in London Helped ‘Angels in ...</td>\n",
       "    </tr>\n",
       "    <tr>\n",
       "      <th>204125</th>\n",
       "      <td>None</td>\n",
       "      <td>4 Standout College Application Essays on Work,...</td>\n",
       "    </tr>\n",
       "    <tr>\n",
       "      <th>204126</th>\n",
       "      <td>SAN FRANCISCO — Airbnb agreed on Monday to set...</td>\n",
       "      <td>Airbnb Settles Lawsuit With Its Hometown, San ...</td>\n",
       "    </tr>\n",
       "    <tr>\n",
       "      <th>204127</th>\n",
       "      <td>In the Band’s popular song “The Night They Dro...</td>\n",
       "      <td>The Making and the Breaking of the Legend of R...</td>\n",
       "    </tr>\n",
       "    <tr>\n",
       "      <th>204128</th>\n",
       "      <td>None</td>\n",
       "      <td>Opinion | We’re Not Ready for a Flu Pandemic -...</td>\n",
       "    </tr>\n",
       "    <tr>\n",
       "      <th>204129</th>\n",
       "      <td>The Rev. Billy Graham admitted in his later ye...</td>\n",
       "      <td>Billy Graham Warned Against Embracing a Presid...</td>\n",
       "    </tr>\n",
       "    <tr>\n",
       "      <th>204130</th>\n",
       "      <td>None</td>\n",
       "      <td>Opinion | The West’s Schism Over Liberal Value...</td>\n",
       "    </tr>\n",
       "    <tr>\n",
       "      <th>204131</th>\n",
       "      <td>Sammy Stewart, who set a record when he struck...</td>\n",
       "      <td>Sammy Stewart, Pitcher Whose Life Took a Downt...</td>\n",
       "    </tr>\n",
       "    <tr>\n",
       "      <th>204132</th>\n",
       "      <td>Good morning. (Want to get California Today by...</td>\n",
       "      <td>California Today: Down to the Wire in Hollywoo...</td>\n",
       "    </tr>\n",
       "    <tr>\n",
       "      <th>204133</th>\n",
       "      <td>None</td>\n",
       "      <td>An Export From Sweden: Art Treasures Collected...</td>\n",
       "    </tr>\n",
       "    <tr>\n",
       "      <th>204134</th>\n",
       "      <td></td>\n",
       "      <td>Taking a Knee and Taking Down a Monument - Vid...</td>\n",
       "    </tr>\n",
       "  </tbody>\n",
       "</table>\n",
       "</div>"
      ],
      "text/plain": [
       "                                                 Articles  \\\n",
       "204115  Adam Wilk, a Mets left-hander who had not pitc...   \n",
       "204116  The following is the text of a statement relea...   \n",
       "204117                                                      \n",
       "204118                                               None   \n",
       "204119  CAIRO — President Abdel Fattah el-Sisi of Egyp...   \n",
       "204120  REZU AMTALI, Bangladesh — They stumble down mu...   \n",
       "204121                                               None   \n",
       "204122                                               None   \n",
       "204123  Rick Rojas is a reporter for The Times who gre...   \n",
       "204124  LONDON — You might call it a triumphal return:...   \n",
       "204125                                               None   \n",
       "204126  SAN FRANCISCO — Airbnb agreed on Monday to set...   \n",
       "204127  In the Band’s popular song “The Night They Dro...   \n",
       "204128                                               None   \n",
       "204129  The Rev. Billy Graham admitted in his later ye...   \n",
       "204130                                               None   \n",
       "204131  Sammy Stewart, who set a record when he struck...   \n",
       "204132  Good morning. (Want to get California Today by...   \n",
       "204133                                               None   \n",
       "204134                                                      \n",
       "\n",
       "                                                 Headline  \n",
       "204115  After Matt Harvey Is Disciplined, Mets Fill-In...  \n",
       "204116  Text of Beverly Young Nelson’s Accusation Agai...  \n",
       "204117  Comey’s Testimony Before the Senate Intelligen...  \n",
       "204118  When They Say ‘State Your Name,’ She Says: ‘Ye...  \n",
       "204119  Egyptian President Agrees to Cede 2 Islands to...  \n",
       "204120  Desperate Rohingya Flee Myanmar on Trail of Su...  \n",
       "204121  What (if Anything) Does Carter Page Know? - Th...  \n",
       "204122  Opinion | The Autumn of the Oscars - The New Y...  \n",
       "204123  My Unforgettable Drive Home to Beaumont, Texas...  \n",
       "204124  How Taking Flight in London Helped ‘Angels in ...  \n",
       "204125  4 Standout College Application Essays on Work,...  \n",
       "204126  Airbnb Settles Lawsuit With Its Hometown, San ...  \n",
       "204127  The Making and the Breaking of the Legend of R...  \n",
       "204128  Opinion | We’re Not Ready for a Flu Pandemic -...  \n",
       "204129  Billy Graham Warned Against Embracing a Presid...  \n",
       "204130  Opinion | The West’s Schism Over Liberal Value...  \n",
       "204131  Sammy Stewart, Pitcher Whose Life Took a Downt...  \n",
       "204132  California Today: Down to the Wire in Hollywoo...  \n",
       "204133  An Export From Sweden: Art Treasures Collected...  \n",
       "204134  Taking a Knee and Taking Down a Monument - Vid...  "
      ]
     },
     "execution_count": 18,
     "metadata": {},
     "output_type": "execute_result"
    }
   ],
   "source": [
    "ndf.tail(20)"
   ]
  },
  {
   "cell_type": "code",
   "execution_count": 19,
   "metadata": {},
   "outputs": [],
   "source": [
    "ndf.dropna(inplace=True)"
   ]
  },
  {
   "cell_type": "code",
   "execution_count": 20,
   "metadata": {},
   "outputs": [
    {
     "data": {
      "text/html": [
       "<div>\n",
       "<style scoped>\n",
       "    .dataframe tbody tr th:only-of-type {\n",
       "        vertical-align: middle;\n",
       "    }\n",
       "\n",
       "    .dataframe tbody tr th {\n",
       "        vertical-align: top;\n",
       "    }\n",
       "\n",
       "    .dataframe thead th {\n",
       "        text-align: right;\n",
       "    }\n",
       "</style>\n",
       "<table border=\"1\" class=\"dataframe\">\n",
       "  <thead>\n",
       "    <tr style=\"text-align: right;\">\n",
       "      <th></th>\n",
       "      <th>Articles</th>\n",
       "      <th>Headline</th>\n",
       "    </tr>\n",
       "  </thead>\n",
       "  <tbody>\n",
       "    <tr>\n",
       "      <th>204105</th>\n",
       "      <td>When Melissa Mark-Viverito was elected as City...</td>\n",
       "      <td>No Longer at the Mayor’s Flank, Mark-Viverito ...</td>\n",
       "    </tr>\n",
       "    <tr>\n",
       "      <th>204106</th>\n",
       "      <td>We’re following major developments in the mark...</td>\n",
       "      <td>Movers: Markets Up, and Jimmy Choo for Sale - ...</td>\n",
       "    </tr>\n",
       "    <tr>\n",
       "      <th>204107</th>\n",
       "      <td>ATLANTA — Some professional athletes (hello, R...</td>\n",
       "      <td>A Way to Extend Her W.N.B.A. Career? Opening a...</td>\n",
       "    </tr>\n",
       "    <tr>\n",
       "      <th>204108</th>\n",
       "      <td>WASHINGTON — Republican plans to repeal the Af...</td>\n",
       "      <td>Repeal of Health Law Faces a New Hurdle: Older...</td>\n",
       "    </tr>\n",
       "    <tr>\n",
       "      <th>204110</th>\n",
       "      <td>With drinking water cut off, its river still r...</td>\n",
       "      <td>New Worries About Storm Damage as Beaumont’s D...</td>\n",
       "    </tr>\n",
       "    <tr>\n",
       "      <th>204111</th>\n",
       "      <td>A RENOVATED APARTMENT IN A STONE HOUSE IN CROA...</td>\n",
       "      <td>House Hunting in … Croatia - The New York Times</td>\n",
       "    </tr>\n",
       "    <tr>\n",
       "      <th>204113</th>\n",
       "      <td>The following are excerpts, as prepared and re...</td>\n",
       "      <td>Excerpts From Trump’s Conversation With Journa...</td>\n",
       "    </tr>\n",
       "    <tr>\n",
       "      <th>204115</th>\n",
       "      <td>Adam Wilk, a Mets left-hander who had not pitc...</td>\n",
       "      <td>After Matt Harvey Is Disciplined, Mets Fill-In...</td>\n",
       "    </tr>\n",
       "    <tr>\n",
       "      <th>204116</th>\n",
       "      <td>The following is the text of a statement relea...</td>\n",
       "      <td>Text of Beverly Young Nelson’s Accusation Agai...</td>\n",
       "    </tr>\n",
       "    <tr>\n",
       "      <th>204117</th>\n",
       "      <td></td>\n",
       "      <td>Comey’s Testimony Before the Senate Intelligen...</td>\n",
       "    </tr>\n",
       "    <tr>\n",
       "      <th>204119</th>\n",
       "      <td>CAIRO — President Abdel Fattah el-Sisi of Egyp...</td>\n",
       "      <td>Egyptian President Agrees to Cede 2 Islands to...</td>\n",
       "    </tr>\n",
       "    <tr>\n",
       "      <th>204120</th>\n",
       "      <td>REZU AMTALI, Bangladesh — They stumble down mu...</td>\n",
       "      <td>Desperate Rohingya Flee Myanmar on Trail of Su...</td>\n",
       "    </tr>\n",
       "    <tr>\n",
       "      <th>204123</th>\n",
       "      <td>Rick Rojas is a reporter for The Times who gre...</td>\n",
       "      <td>My Unforgettable Drive Home to Beaumont, Texas...</td>\n",
       "    </tr>\n",
       "    <tr>\n",
       "      <th>204124</th>\n",
       "      <td>LONDON — You might call it a triumphal return:...</td>\n",
       "      <td>How Taking Flight in London Helped ‘Angels in ...</td>\n",
       "    </tr>\n",
       "    <tr>\n",
       "      <th>204126</th>\n",
       "      <td>SAN FRANCISCO — Airbnb agreed on Monday to set...</td>\n",
       "      <td>Airbnb Settles Lawsuit With Its Hometown, San ...</td>\n",
       "    </tr>\n",
       "    <tr>\n",
       "      <th>204127</th>\n",
       "      <td>In the Band’s popular song “The Night They Dro...</td>\n",
       "      <td>The Making and the Breaking of the Legend of R...</td>\n",
       "    </tr>\n",
       "    <tr>\n",
       "      <th>204129</th>\n",
       "      <td>The Rev. Billy Graham admitted in his later ye...</td>\n",
       "      <td>Billy Graham Warned Against Embracing a Presid...</td>\n",
       "    </tr>\n",
       "    <tr>\n",
       "      <th>204131</th>\n",
       "      <td>Sammy Stewart, who set a record when he struck...</td>\n",
       "      <td>Sammy Stewart, Pitcher Whose Life Took a Downt...</td>\n",
       "    </tr>\n",
       "    <tr>\n",
       "      <th>204132</th>\n",
       "      <td>Good morning. (Want to get California Today by...</td>\n",
       "      <td>California Today: Down to the Wire in Hollywoo...</td>\n",
       "    </tr>\n",
       "    <tr>\n",
       "      <th>204134</th>\n",
       "      <td></td>\n",
       "      <td>Taking a Knee and Taking Down a Monument - Vid...</td>\n",
       "    </tr>\n",
       "  </tbody>\n",
       "</table>\n",
       "</div>"
      ],
      "text/plain": [
       "                                                 Articles  \\\n",
       "204105  When Melissa Mark-Viverito was elected as City...   \n",
       "204106  We’re following major developments in the mark...   \n",
       "204107  ATLANTA — Some professional athletes (hello, R...   \n",
       "204108  WASHINGTON — Republican plans to repeal the Af...   \n",
       "204110  With drinking water cut off, its river still r...   \n",
       "204111  A RENOVATED APARTMENT IN A STONE HOUSE IN CROA...   \n",
       "204113  The following are excerpts, as prepared and re...   \n",
       "204115  Adam Wilk, a Mets left-hander who had not pitc...   \n",
       "204116  The following is the text of a statement relea...   \n",
       "204117                                                      \n",
       "204119  CAIRO — President Abdel Fattah el-Sisi of Egyp...   \n",
       "204120  REZU AMTALI, Bangladesh — They stumble down mu...   \n",
       "204123  Rick Rojas is a reporter for The Times who gre...   \n",
       "204124  LONDON — You might call it a triumphal return:...   \n",
       "204126  SAN FRANCISCO — Airbnb agreed on Monday to set...   \n",
       "204127  In the Band’s popular song “The Night They Dro...   \n",
       "204129  The Rev. Billy Graham admitted in his later ye...   \n",
       "204131  Sammy Stewart, who set a record when he struck...   \n",
       "204132  Good morning. (Want to get California Today by...   \n",
       "204134                                                      \n",
       "\n",
       "                                                 Headline  \n",
       "204105  No Longer at the Mayor’s Flank, Mark-Viverito ...  \n",
       "204106  Movers: Markets Up, and Jimmy Choo for Sale - ...  \n",
       "204107  A Way to Extend Her W.N.B.A. Career? Opening a...  \n",
       "204108  Repeal of Health Law Faces a New Hurdle: Older...  \n",
       "204110  New Worries About Storm Damage as Beaumont’s D...  \n",
       "204111    House Hunting in … Croatia - The New York Times  \n",
       "204113  Excerpts From Trump’s Conversation With Journa...  \n",
       "204115  After Matt Harvey Is Disciplined, Mets Fill-In...  \n",
       "204116  Text of Beverly Young Nelson’s Accusation Agai...  \n",
       "204117  Comey’s Testimony Before the Senate Intelligen...  \n",
       "204119  Egyptian President Agrees to Cede 2 Islands to...  \n",
       "204120  Desperate Rohingya Flee Myanmar on Trail of Su...  \n",
       "204123  My Unforgettable Drive Home to Beaumont, Texas...  \n",
       "204124  How Taking Flight in London Helped ‘Angels in ...  \n",
       "204126  Airbnb Settles Lawsuit With Its Hometown, San ...  \n",
       "204127  The Making and the Breaking of the Legend of R...  \n",
       "204129  Billy Graham Warned Against Embracing a Presid...  \n",
       "204131  Sammy Stewart, Pitcher Whose Life Took a Downt...  \n",
       "204132  California Today: Down to the Wire in Hollywoo...  \n",
       "204134  Taking a Knee and Taking Down a Monument - Vid...  "
      ]
     },
     "execution_count": 20,
     "metadata": {},
     "output_type": "execute_result"
    }
   ],
   "source": [
    "ndf.tail(20)"
   ]
  },
  {
   "cell_type": "code",
   "execution_count": 25,
   "metadata": {},
   "outputs": [],
   "source": [
    "import numpy as np"
   ]
  },
  {
   "cell_type": "code",
   "execution_count": 30,
   "metadata": {},
   "outputs": [
    {
     "data": {
      "text/plain": [
       "(191181, 2)"
      ]
     },
     "execution_count": 30,
     "metadata": {},
     "output_type": "execute_result"
    }
   ],
   "source": [
    "ndf.shape"
   ]
  },
  {
   "cell_type": "code",
   "execution_count": 84,
   "metadata": {},
   "outputs": [],
   "source": [
    "df=ndf[ndf[\"Articles\"] != \"\"]"
   ]
  },
  {
   "cell_type": "code",
   "execution_count": 85,
   "metadata": {},
   "outputs": [
    {
     "data": {
      "text/plain": [
       "(188732, 2)"
      ]
     },
     "execution_count": 85,
     "metadata": {},
     "output_type": "execute_result"
    }
   ],
   "source": [
    "df.shape"
   ]
  },
  {
   "cell_type": "code",
   "execution_count": 89,
   "metadata": {},
   "outputs": [],
   "source": [
    "df=df[df[\"Articles\"] != \" \"]\n",
    "df=df[df[\"Articles\"] != \"  \"]\n",
    "df=df[df[\"Articles\"] != \"   \"]\n",
    "df=df[df[\"Articles\"] != \"    \"]\n",
    "df=df[df[\"Articles\"] != \"     \"]\n",
    "df=df[df[\"Articles\"] != \"     \"]\n",
    "df=df[df[\"Articles\"] != \"      \"]\n",
    "df=df[df[\"Articles\"] != \"       \"]\n",
    "df=df[df[\"Articles\"] != \"        \"]\n",
    "df=df[df[\"Articles\"] != \"         \"]\n",
    "df=df[df[\"Articles\"] != \"          \"]"
   ]
  },
  {
   "cell_type": "code",
   "execution_count": 90,
   "metadata": {},
   "outputs": [
    {
     "data": {
      "text/plain": [
       "(188693, 2)"
      ]
     },
     "execution_count": 90,
     "metadata": {},
     "output_type": "execute_result"
    }
   ],
   "source": [
    "df.shape"
   ]
  },
  {
   "cell_type": "code",
   "execution_count": 92,
   "metadata": {},
   "outputs": [],
   "source": [
    "df=df[df[\"Headline\"] != \"\"]\n",
    "df=df[df[\"Headline\"] != \" \"]\n",
    "df=df[df[\"Headline\"] != \"  \"]\n",
    "df=df[df[\"Headline\"] != \"   \"]\n",
    "df=df[df[\"Headline\"] != \"    \"]\n",
    "df=df[df[\"Headline\"] != \"     \"]\n",
    "df=df[df[\"Headline\"] != \"      \"]"
   ]
  },
  {
   "cell_type": "code",
   "execution_count": 94,
   "metadata": {},
   "outputs": [
    {
     "data": {
      "text/plain": [
       "(188150, 2)"
      ]
     },
     "execution_count": 94,
     "metadata": {},
     "output_type": "execute_result"
    }
   ],
   "source": [
    "df.shape"
   ]
  },
  {
   "cell_type": "code",
   "execution_count": null,
   "metadata": {},
   "outputs": [],
   "source": [
    "count=0\n",
    "art=[]\n",
    "head=[]\n",
    "for i in range(len(df[\"Articles\"])):\n",
    "    if len(df[\"Articles\"][i]) > 20:\n",
    "        art.append(df[\"Articles\"][i])\n",
    "        head.append(df[\"Headline\"][i])\n",
    "        count+=1\n",
    "print(count)"
   ]
  },
  {
   "cell_type": "code",
   "execution_count": 126,
   "metadata": {},
   "outputs": [
    {
     "data": {
      "text/html": [
       "<div>\n",
       "<style scoped>\n",
       "    .dataframe tbody tr th:only-of-type {\n",
       "        vertical-align: middle;\n",
       "    }\n",
       "\n",
       "    .dataframe tbody tr th {\n",
       "        vertical-align: top;\n",
       "    }\n",
       "\n",
       "    .dataframe thead th {\n",
       "        text-align: right;\n",
       "    }\n",
       "</style>\n",
       "<table border=\"1\" class=\"dataframe\">\n",
       "  <thead>\n",
       "    <tr style=\"text-align: right;\">\n",
       "      <th></th>\n",
       "      <th>Articles</th>\n",
       "      <th>Headline</th>\n",
       "    </tr>\n",
       "  </thead>\n",
       "  <tbody>\n",
       "    <tr>\n",
       "      <th>0</th>\n",
       "      <td>And never more so than in Showtime’s new...</td>\n",
       "      <td>Agent Cooper in Twin Peaks is the audience: on...</td>\n",
       "    </tr>\n",
       "    <tr>\n",
       "      <th>1</th>\n",
       "      <td>AlphaGo’s victory isn’t a defeat for hum...</td>\n",
       "      <td>AI, the humanity!</td>\n",
       "    </tr>\n",
       "    <tr>\n",
       "      <th>2</th>\n",
       "      <td>Super Deluxe built a weird internet empi...</td>\n",
       "      <td>The Viral Machine</td>\n",
       "    </tr>\n",
       "    <tr>\n",
       "      <th>3</th>\n",
       "      <td>Steven Yang quit his job at Google in th...</td>\n",
       "      <td>How Anker is beating Apple and Samsung at thei...</td>\n",
       "    </tr>\n",
       "    <tr>\n",
       "      <th>4</th>\n",
       "      <td>Ahead of Black Panther’s 2018 theatrical...</td>\n",
       "      <td>Tour Black Panther’s reimagined homeland with ...</td>\n",
       "    </tr>\n",
       "  </tbody>\n",
       "</table>\n",
       "</div>"
      ],
      "text/plain": [
       "                                            Articles  \\\n",
       "0        And never more so than in Showtime’s new...   \n",
       "1        AlphaGo’s victory isn’t a defeat for hum...   \n",
       "2        Super Deluxe built a weird internet empi...   \n",
       "3        Steven Yang quit his job at Google in th...   \n",
       "4        Ahead of Black Panther’s 2018 theatrical...   \n",
       "\n",
       "                                            Headline  \n",
       "0  Agent Cooper in Twin Peaks is the audience: on...  \n",
       "1                                  AI, the humanity!  \n",
       "2                                  The Viral Machine  \n",
       "3  How Anker is beating Apple and Samsung at thei...  \n",
       "4  Tour Black Panther’s reimagined homeland with ...  "
      ]
     },
     "execution_count": 126,
     "metadata": {},
     "output_type": "execute_result"
    }
   ],
   "source": [
    "df.head()"
   ]
  },
  {
   "cell_type": "code",
   "execution_count": 127,
   "metadata": {},
   "outputs": [],
   "source": [
    "df.to_csv(\"Kaggle Headline Data.csv\")"
   ]
  },
  {
   "cell_type": "code",
   "execution_count": null,
   "metadata": {},
   "outputs": [],
   "source": [
    "df[\"Articles\"]"
   ]
  }
 ],
 "metadata": {
  "kernelspec": {
   "display_name": "Python 3",
   "language": "python",
   "name": "python3"
  },
  "language_info": {
   "codemirror_mode": {
    "name": "ipython",
    "version": 3
   },
   "file_extension": ".py",
   "mimetype": "text/x-python",
   "name": "python",
   "nbconvert_exporter": "python",
   "pygments_lexer": "ipython3",
   "version": "3.6.5"
  }
 },
 "nbformat": 4,
 "nbformat_minor": 2
}
