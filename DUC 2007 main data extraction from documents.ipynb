{
 "cells": [
  {
   "cell_type": "code",
   "execution_count": 12,
   "metadata": {},
   "outputs": [],
   "source": [
    "# Extracting main data\n",
    "import os\n",
    "import re\n",
    "from bs4 import BeautifulSoup\n",
    "cmplt=open(\"main ext/all-data.txt\",'w')\n",
    "for doc in os.listdir('main'):\n",
    "    with open(\"main ext/\"+doc+'.txt','w') as file:\n",
    "        with open(\"main/\"+doc,'r') as duc:\n",
    "            soup=BeautifulSoup(duc,'lxml')\n",
    "            for data in soup.find_all('document'):\n",
    "                file.write((data.get('name')+'\\t'))\n",
    "                file.write(re.sub('\\n','',(data.text))+'\\n')\n",
    "                cmplt.write((data.get('name')+'\\t'))\n",
    "                cmplt.write(re.sub('\\n','',(data.text))+'\\n')\n",
    "cmplt.close()   "
   ]
  },
  {
   "cell_type": "code",
   "execution_count": null,
   "metadata": {},
   "outputs": [],
   "source": []
  }
 ],
 "metadata": {
  "kernelspec": {
   "display_name": "Python 3",
   "language": "python",
   "name": "python3"
  },
  "language_info": {
   "codemirror_mode": {
    "name": "ipython",
    "version": 3
   },
   "file_extension": ".py",
   "mimetype": "text/x-python",
   "name": "python",
   "nbconvert_exporter": "python",
   "pygments_lexer": "ipython3",
   "version": "3.6.5"
  }
 },
 "nbformat": 4,
 "nbformat_minor": 2
}
