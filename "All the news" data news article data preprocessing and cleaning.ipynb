{
 "cells": [
  {
   "cell_type": "code",
   "execution_count": null,
   "metadata": {},
   "outputs": [],
   "source": [
    "from bs4 import BeautifulSoup"
   ]
  },
  {
   "cell_type": "code",
   "execution_count": 65,
   "metadata": {},
   "outputs": [
    {
     "name": "stdout",
     "output_type": "stream",
     "text": [
      "contraction_mapping = {\"ain’t\": \"is not\", \"aren’t\": \"are not\",\"can’t\": \"cannot\", \"’cause\": \"because\", \"could’ve\": \"could have\", \"couldn’t\": \"could not\",\n",
      "                          \"didn’t\": \"did not\", \"doesn’t\": \"does not\", \"don’t\": \"do not\", \"hadn’t\": \"had not\", \"hasn’t\": \"has not\", \"haven’t\": \"have not\",\n",
      "                          \"he’d\": \"he would\",\"he’ll\": \"he will\", \"he’s\": \"he is\", \"how’d\": \"how did\", \"how’d’y\": \"how do you\", \"how’ll\": \"how will\", \"how’s\": \"how is\",\n",
      "                          \"I’d\": \"I would\", \"I’d’ve\": \"I would have\", \"I’ll\": \"I will\", \"I’ll’ve\": \"I will have\",\"I’m\": \"I am\", \"I’ve\": \"I have\", \"i’d\": \"i would\",\n",
      "                          \"i’d’ve\": \"i would have\", \"i’ll\": \"i will\",  \"i’ll’ve\": \"i will have\",\"i’m\": \"i am\", \"i’ve\": \"i have\", \"isn’t\": \"is not\", \"it’d\": \"it would\",\n",
      "                          \"it’d’ve\": \"it would have\", \"it’ll\": \"it will\", \"it’ll’ve\": \"it will have\",\"it’s\": \"it is\", \"let’s\": \"let us\", \"ma’am\": \"madam\",\n",
      "                          \"mayn’t\": \"may not\", \"might’ve\": \"might have\",\"mightn’t\": \"might not\",\"mightn’t’ve\": \"might not have\", \"must’ve\": \"must have\",\n",
      "                          \"mustn’t\": \"must not\", \"mustn’t’ve\": \"must not have\", \"needn’t\": \"need not\", \"needn’t’ve\": \"need not have\",\"o’clock\": \"of the clock\",\n",
      "                          \"oughtn’t\": \"ought not\", \"oughtn’t’ve\": \"ought not have\", \"shan’t\": \"shall not\", \"sha’n’t\": \"shall not\", \"shan’t’ve\": \"shall not have\",\n",
      "                          \"she’d\": \"she would\", \"she’d’ve\": \"she would have\", \"she’ll\": \"she will\", \"she’ll’ve\": \"she will have\", \"she’s\": \"she is\",\n",
      "                          \"should’ve\": \"should have\", \"shouldn’t\": \"should not\", \"shouldn’t’ve\": \"should not have\", \"so’ve\": \"so have\",\"so’s\": \"so as\",\n",
      "                          \"this’s\": \"this is\",\"that’d\": \"that would\", \"that’d’ve\": \"that would have\", \"that’s\": \"that is\", \"there’d\": \"there would\",\n",
      "                          \"there’d’ve\": \"there would have\", \"there’s\": \"there is\", \"here’s\": \"here is\",\"they’d\": \"they would\", \"they’d’ve\": \"they would have\",\n",
      "                          \"they’ll\": \"they will\", \"they’ll’ve\": \"they will have\", \"they’re\": \"they are\", \"they’ve\": \"they have\", \"to’ve\": \"to have\",\n",
      "                          \"wasn’t\": \"was not\", \"we’d\": \"we would\", \"we’d’ve\": \"we would have\", \"we’ll\": \"we will\", \"we’ll’ve\": \"we will have\", \"we’re\": \"we are\",\n",
      "                          \"we’ve\": \"we have\", \"weren’t\": \"were not\", \"what’ll\": \"what will\", \"what’ll’ve\": \"what will have\", \"what’re\": \"what are\",\n",
      "                          \"what’s\": \"what is\", \"what’ve\": \"what have\", \"when’s\": \"when is\", \"when’ve\": \"when have\", \"where’d\": \"where did\", \"where’s\": \"where is\",\n",
      "                          \"where’ve\": \"where have\", \"who’ll\": \"who will\", \"who’ll’ve\": \"who will have\", \"who’s\": \"who is\", \"who’ve\": \"who have\",\n",
      "                          \"why’s\": \"why is\", \"why’ve\": \"why have\", \"will’ve\": \"will have\", \"won’t\": \"will not\", \"won’t’ve\": \"will not have\",\n",
      "                          \"would’ve\": \"would have\", \"wouldn’t\": \"would not\", \"wouldn’t’ve\": \"would not have\", \"y’all\": \"you all\",\n",
      "                          \"y’all’d\": \"you all would\",\"y’all’d’ve\": \"you all would have\",\"y’all’re\": \"you all are\",\"y’all’ve\": \"you all have\",\n",
      "                          \"you’d\": \"you would\", \"you’d’ve\": \"you would have\", \"you’ll\": \"you will\", \"you’ll’ve\": \"you will have\",\n",
      "                          \"you’re\": \"you are\", \"you’ve\": \"you have\"}\n",
      "                    \n"
     ]
    }
   ],
   "source": [
    "cnt=\"\"\"contraction_mapping = {\"ain't\": \"is not\", \"aren't\": \"are not\",\"can't\": \"cannot\", \"'cause\": \"because\", \"could've\": \"could have\", \"couldn't\": \"could not\",\n",
    "                          \"didn't\": \"did not\", \"doesn't\": \"does not\", \"don't\": \"do not\", \"hadn't\": \"had not\", \"hasn't\": \"has not\", \"haven't\": \"have not\",\n",
    "                          \"he'd\": \"he would\",\"he'll\": \"he will\", \"he's\": \"he is\", \"how'd\": \"how did\", \"how'd'y\": \"how do you\", \"how'll\": \"how will\", \"how's\": \"how is\",\n",
    "                          \"I'd\": \"I would\", \"I'd've\": \"I would have\", \"I'll\": \"I will\", \"I'll've\": \"I will have\",\"I'm\": \"I am\", \"I've\": \"I have\", \"i'd\": \"i would\",\n",
    "                          \"i'd've\": \"i would have\", \"i'll\": \"i will\",  \"i'll've\": \"i will have\",\"i'm\": \"i am\", \"i've\": \"i have\", \"isn't\": \"is not\", \"it'd\": \"it would\",\n",
    "                          \"it'd've\": \"it would have\", \"it'll\": \"it will\", \"it'll've\": \"it will have\",\"it's\": \"it is\", \"let's\": \"let us\", \"ma'am\": \"madam\",\n",
    "                          \"mayn't\": \"may not\", \"might've\": \"might have\",\"mightn't\": \"might not\",\"mightn't've\": \"might not have\", \"must've\": \"must have\",\n",
    "                          \"mustn't\": \"must not\", \"mustn't've\": \"must not have\", \"needn't\": \"need not\", \"needn't've\": \"need not have\",\"o'clock\": \"of the clock\",\n",
    "                          \"oughtn't\": \"ought not\", \"oughtn't've\": \"ought not have\", \"shan't\": \"shall not\", \"sha'n't\": \"shall not\", \"shan't've\": \"shall not have\",\n",
    "                          \"she'd\": \"she would\", \"she'd've\": \"she would have\", \"she'll\": \"she will\", \"she'll've\": \"she will have\", \"she's\": \"she is\",\n",
    "                          \"should've\": \"should have\", \"shouldn't\": \"should not\", \"shouldn't've\": \"should not have\", \"so've\": \"so have\",\"so's\": \"so as\",\n",
    "                          \"this's\": \"this is\",\"that'd\": \"that would\", \"that'd've\": \"that would have\", \"that's\": \"that is\", \"there'd\": \"there would\",\n",
    "                          \"there'd've\": \"there would have\", \"there's\": \"there is\", \"here's\": \"here is\",\"they'd\": \"they would\", \"they'd've\": \"they would have\",\n",
    "                          \"they'll\": \"they will\", \"they'll've\": \"they will have\", \"they're\": \"they are\", \"they've\": \"they have\", \"to've\": \"to have\",\n",
    "                          \"wasn't\": \"was not\", \"we'd\": \"we would\", \"we'd've\": \"we would have\", \"we'll\": \"we will\", \"we'll've\": \"we will have\", \"we're\": \"we are\",\n",
    "                          \"we've\": \"we have\", \"weren't\": \"were not\", \"what'll\": \"what will\", \"what'll've\": \"what will have\", \"what're\": \"what are\",\n",
    "                          \"what's\": \"what is\", \"what've\": \"what have\", \"when's\": \"when is\", \"when've\": \"when have\", \"where'd\": \"where did\", \"where's\": \"where is\",\n",
    "                          \"where've\": \"where have\", \"who'll\": \"who will\", \"who'll've\": \"who will have\", \"who's\": \"who is\", \"who've\": \"who have\",\n",
    "                          \"why's\": \"why is\", \"why've\": \"why have\", \"will've\": \"will have\", \"won't\": \"will not\", \"won't've\": \"will not have\",\n",
    "                          \"would've\": \"would have\", \"wouldn't\": \"would not\", \"wouldn't've\": \"would not have\", \"y'all\": \"you all\",\n",
    "                          \"y'all'd\": \"you all would\",\"y'all'd've\": \"you all would have\",\"y'all're\": \"you all are\",\"y'all've\": \"you all have\",\n",
    "                          \"you'd\": \"you would\", \"you'd've\": \"you would have\", \"you'll\": \"you will\", \"you'll've\": \"you will have\",\n",
    "                          \"you're\": \"you are\", \"you've\": \"you have\"}\n",
    "                    \"\"\"\n",
    "cnt=re.sub(\"'\",\"’\",cnt)\n",
    "print(cnt)"
   ]
  },
  {
   "cell_type": "code",
   "execution_count": 67,
   "metadata": {},
   "outputs": [],
   "source": [
    "contraction_mapping = {\"ain’t\": \"is not\", \"aren’t\": \"are not\",\"can’t\": \"cannot\", \"’cause\": \"because\", \"could’ve\": \"could have\", \"couldn’t\": \"could not\",\n",
    "                          \"didn’t\": \"did not\", \"doesn’t\": \"does not\", \"don’t\": \"do not\", \"hadn’t\": \"had not\", \"hasn’t\": \"has not\", \"haven’t\": \"have not\",\n",
    "                          \"he’d\": \"he would\",\"he’ll\": \"he will\", \"he’s\": \"he is\", \"how’d\": \"how did\", \"how’d’y\": \"how do you\", \"how’ll\": \"how will\", \"how’s\": \"how is\",\n",
    "                          \"I’d\": \"I would\", \"I’d’ve\": \"I would have\", \"I’ll\": \"I will\", \"I’ll’ve\": \"I will have\",\"I’m\": \"I am\", \"I’ve\": \"I have\", \"i’d\": \"i would\",\n",
    "                          \"i’d’ve\": \"i would have\", \"i’ll\": \"i will\",  \"i’ll’ve\": \"i will have\",\"i’m\": \"i am\", \"i’ve\": \"i have\", \"isn’t\": \"is not\", \"it’d\": \"it would\",\n",
    "                          \"it’d’ve\": \"it would have\", \"it’ll\": \"it will\", \"it’ll’ve\": \"it will have\",\"it’s\": \"it is\", \"let’s\": \"let us\", \"ma’am\": \"madam\",\n",
    "                          \"mayn’t\": \"may not\", \"might’ve\": \"might have\",\"mightn’t\": \"might not\",\"mightn’t’ve\": \"might not have\", \"must’ve\": \"must have\",\n",
    "                          \"mustn’t\": \"must not\", \"mustn’t’ve\": \"must not have\", \"needn’t\": \"need not\", \"needn’t’ve\": \"need not have\",\"o’clock\": \"of the clock\",\n",
    "                          \"oughtn’t\": \"ought not\", \"oughtn’t’ve\": \"ought not have\", \"shan’t\": \"shall not\", \"sha’n’t\": \"shall not\", \"shan’t’ve\": \"shall not have\",\n",
    "                          \"she’d\": \"she would\", \"she’d’ve\": \"she would have\", \"she’ll\": \"she will\", \"she’ll’ve\": \"she will have\", \"she’s\": \"she is\",\n",
    "                          \"should’ve\": \"should have\", \"shouldn’t\": \"should not\", \"shouldn’t’ve\": \"should not have\", \"so’ve\": \"so have\",\"so’s\": \"so as\",\n",
    "                          \"this’s\": \"this is\",\"that’d\": \"that would\", \"that’d’ve\": \"that would have\", \"that’s\": \"that is\", \"there’d\": \"there would\",\n",
    "                          \"there’d’ve\": \"there would have\", \"there’s\": \"there is\", \"here’s\": \"here is\",\"they’d\": \"they would\", \"they’d’ve\": \"they would have\",\n",
    "                          \"they’ll\": \"they will\", \"they’ll’ve\": \"they will have\", \"they’re\": \"they are\", \"they’ve\": \"they have\", \"to’ve\": \"to have\",\n",
    "                          \"wasn’t\": \"was not\", \"we’d\": \"we would\", \"we’d’ve\": \"we would have\", \"we’ll\": \"we will\", \"we’ll’ve\": \"we will have\", \"we’re\": \"we are\",\n",
    "                          \"we’ve\": \"we have\", \"weren’t\": \"were not\", \"what’ll\": \"what will\", \"what’ll’ve\": \"what will have\", \"what’re\": \"what are\",\n",
    "                          \"what’s\": \"what is\", \"what’ve\": \"what have\", \"when’s\": \"when is\", \"when’ve\": \"when have\", \"where’d\": \"where did\", \"where’s\": \"where is\",\n",
    "                          \"where’ve\": \"where have\", \"who’ll\": \"who will\", \"who’ll’ve\": \"who will have\", \"who’s\": \"who is\", \"who’ve\": \"who have\",\n",
    "                          \"why’s\": \"why is\", \"why’ve\": \"why have\", \"will’ve\": \"will have\", \"won’t\": \"will not\", \"won’t’ve\": \"will not have\",\n",
    "                          \"would’ve\": \"would have\", \"wouldn’t\": \"would not\", \"wouldn’t’ve\": \"would not have\", \"y’all\": \"you all\",\n",
    "                          \"y’all’d\": \"you all would\",\"y’all’d’ve\": \"you all would have\",\"y’all’re\": \"you all are\",\"y’all’ve\": \"you all have\",\n",
    "                          \"you’d\": \"you would\", \"you’d’ve\": \"you would have\", \"you’ll\": \"you will\", \"you’ll’ve\": \"you will have\",\n",
    "                          \"you’re\": \"you are\", \"you’ve\": \"you have\"}"
   ]
  },
  {
   "cell_type": "code",
   "execution_count": 7,
   "metadata": {},
   "outputs": [],
   "source": [
    "with open(\"CLeaned Data/src.txt\",'r') as tgt:\n",
    "    x=tgt.readlines()"
   ]
  },
  {
   "cell_type": "code",
   "execution_count": 282,
   "metadata": {},
   "outputs": [
    {
     "data": {
      "text/plain": [
       "'\"      Airports trigger anxiety. Subway systems cause paranoia. We all know the statistics: it&amprsquos riskier to get in your car than it is to board an aircraft or take a train. But our collective memories of bombings, hijackings, and poison gas attacks often turn public spaces of transport into psychic mine fields. Stuck in limbo between the here and there, pushing through a crush of strangers, we are totally vulnerable and alone. Except we&amprsquore not. There&amprsquos always the voice.You know, the one that tells us that &ampldquosmoking inside the terminal is prohibited,&amprdquo and that &ampldquounattended baggage will be removed immediately,&amprdquo and that &ampldquothe next stop is Times Square.&amprdquo It&amprsquos sort of irritating, yet something to cling to, as familiar and pervasive as the smell of Cinnabon or axle grease.It may surprise you to learn that these announcements are not only real people, but for the most part the same two people. They are Carolyn Hopkins and Jack Fox, two cheerful, church-going retirees who also happen to be longtime buddies.The story of how they came to conquer the sound systems of the majority of major transportation centers across the country is groovier than you&amprsquod expect. It has roots in the music industry, and features a homespun business that was able to grow beyond its Southern roots and go global by capitalizing on a weird technological niche.The next stop is Louisville, KY..mobile-layout .voice object {  display: none}.desktop-layout .voice iframe {  display: none}A conspiracy of voicesConspiracy theorists will probably be delighted to learn that a smallish, 100 person company out of Louisville controls the announcement systems in just about every important public space in the United States. They do it for 110 airports including JFK, LAX, and Chicago O&amprsquoHare, all 26 buildings at the Capitol, the Mayo Clinic, the Kennedy Space Center, and the New York City subway system, just to name a handful. (The NYC MTA has a host of other voices for specific platform announcements for instance, Charlie Pellett says, \"\"stand clear of the closing doors.\"\") They also work worldwide, from China to Iceland and everywhere in between.\"\"Conspiracy theorists will be delighted to learn a small Louisville company controls most US announcement systems.\"\"  Listen to Carolyn Hopkins speak about her transition from music to announcementsThe company responsible for the voices, IED, short for Innovative Electronic Designs, is the preeminent supplier of what&amprsquos known as an automated paging system: networked, computer-controlled equipment that controls audio notifications for big complexes. Though competitors exist &ampmdash Biamp, and QSC, for instance &ampmdash IED is the main US player in this specialized sector. The company was founded in 1978, but its genesis really occurred in tandem with the birth of rock &amplsquon&amprsquo roll.Though it never had the fame of Memphis, Detroit, or Muscle Shoals, Louisville, KY, where IED is based, was an important early meeting point for soul, R&ampB, and electric instruments. The city nurtured popular touring bands like the Sultans and artists like Wilson Pickett. Louisville was also home to Harvey Fuqua, The Moonglows&amprsquo bandleader, who would later go on to help found Motown records and serve as Marvin Gaye&amprsquos mentor. IED&amprsquos co-founder, Hardy Martin, was a fixture in the scene, playing guitar in a band called The Carnations.But he also had a head for business: Martin formed part of a music-booking agency, Triangle Talent, that worked with major bands in the area. It was there that he began to pick up engineering skills.&ampldquoI started out building sound and lighting equipment for The Carnations, then different bands that Triangle Talent handled,&amprdquo says Martin.Martin and his partner Ray Allen also started Allen-Martin Productions, a recording studio that at one time employed Bill Porter, one of the creators of the Nashville Sound. The studio later branched out into commercial and video work.&ampldquoThe first job I had with Allen-Martin was to write the lyrics and the music for a jingle for a hot rod supplier called Big Red,&amprdquo remembers Carolyn Hopkins, the female voice of IED. She had already been working with Triangle Talent as the lead singer of a regional touring soul band called the Chaparrals, and before that, in radio as a producer. The Chaparrals had a full horn section, sounded a bit like Earth, Wind &amp Fire, and played in full evening attire: gowns, tuxes. &ampldquoAbsolutely excruciating in hot, Kentucky weather,&amprdquo says Hopkins.When Martin and three other partners started IED, they chose Hopkins as one of their first voices. It was for the Typhoon Lagoon attraction at Disney World at Florida in 1989.Hopkins&amprsquo voice isn&amprsquot what you&amprsquod expect from a paging system. It&amprsquos neither robotic, nor elegant and actressy, but rather, mirthful and folksy.&ampldquoThey said, &amplsquoCan you do a certain voice?&amprsquo&amprdquo Hopkins, now 64, remembers. &ampldquoThey wanted a very happy smiling voice! And I tried it.&amprdquo The gig continued, and Hopkins was called back every time they created a new system.Her voice is neither robotic, nor elegant and actressy, but rather, mirthful and folksyJack Fox was a local radio personality who had spent his entire career traveling around the country working as a DJ at various adult contemporary stations before landing in Louisville in 1974. He has a classic booming, old-timey announcer sound, has done extensive voice-over and commercial work, and has recorded over 1,000 talking books for the blind.In 1991, after the Gulf War broke out, he was tapped by IED. It was the beginning of tighter airport security, and Fox sounded strong.&ampldquoThey needed a male voice that was friendly yet authoritative,&amprdquo says Fox.Typically, when a client needs a system built and hires IED, the voice actors are given very specific scripts as Word or Excel files. The actors then record them, and the files are uploaded to the computerized notification system that&amprsquos constructed for the building complex in question.&ampldquoI usually record a plethora of items for transit authorities &ampmdash lots of options and variations.  They don&amprsquot change too often, but usually they are needed yesterday when I do get them.  It&amprsquos either feast or famine with numbers of takes needed,&amprdquo says Hopkins.Comfort of strangersFox and Hopkins are old friends. And they&amprsquore both somewhat matter-of-fact about their omnipresence in transport stations the world over.&ampldquoSometimes it can be strange, because I&amprsquoll be traveling somewhere, and forget I&amprsquod recorded something, and suddenly hear my voice,&amprdquo says Hopkins, who recently retired to Maine with her husband, but still records for IED from her home.I&amprsquoll be traveling somewhere, and forget I&amprsquod recorded something, and suddenly hear my voice  Listen to how Jack Fox started his voice recording careerOnce she was on a moving sidewalk late at night, and there was a guy taking up both sides with his baggage, the way you&amprsquore not supposed to. She sidled up behind him and tried to duplicate her own voice, which was playing on the intercom.&ampldquoHe didn&amprsquot move and didn&amprsquot react. I&amprsquom going, &amplsquoWow. He must be dead or something.&amprsquo&amprdquoIf they get recognized, it usually only happens while they are at the airport themselves. Fox says he was renting a car at the terminal once, and the agent said, &ampldquoYou sound like that guy!&amprdquo Then there was the time he was traveling with his granddaughter: &ampldquoShe got this puzzled look on her face and said: &amplsquoWhy is grandpa talking so much?&amprsquo&amprdquoHopkins, Fox, and Martin all have an informality and warmth that seems at odds with the environments their respective technology and voices inhabit. In the case of Hopkins and Fox, they view their work, quite literally, as a public service. They talk about how they hope that they can provide some mellowness to an otherwise stressful experiences.&ampldquoI picture someone standing on a moving sidewalk and I&amprsquom talking to that person with a friendly quality to my voice, so it won&amprsquot be so cold and sterile.&amprdquo says Fox. &ampldquoMy father was a minister, and I think of this as my airport ministry.&amprdquoClearly, although their rock and radio days are behind them, they&amprsquore now programming the travel&amprsquos soundtrack to have a little soul.Photos by Michael Shane, audio mix by John Lagomarsino\"\\n'"
      ]
     },
     "execution_count": 282,
     "metadata": {},
     "output_type": "execute_result"
    }
   ],
   "source": [
    "x[115]"
   ]
  },
  {
   "cell_type": "code",
   "execution_count": 283,
   "metadata": {},
   "outputs": [],
   "source": [
    "import re\n",
    "cont=[]\n",
    "for i in x:\n",
    "    low=str(i).lower()\n",
    "    soup=BeautifulSoup(low,'lxml')\n",
    "    low=soup.text\n",
    "    low=re.sub(r\"&amp\\w+\\b\",'',low)\n",
    "    low=re.sub(r\"‘\",\"'\",low)\n",
    "    low=re.sub(r\"“\",\"\",low)\n",
    "    low=re.sub(r\"”\",\"\",low)\n",
    "    sent=[]\n",
    "    for m in (low.split()):\n",
    "        if m in contraction_mapping:\n",
    "            sent.append(contraction_mapping[m])\n",
    "        else:\n",
    "            sent.append(m)\n",
    "    jnt=' '.join(sent)\n",
    "    low=re.sub(\"’s\",\"\",jnt)\n",
    "    cont.append(low)\n",
    "            "
   ]
  },
  {
   "cell_type": "code",
   "execution_count": 284,
   "metadata": {},
   "outputs": [
    {
     "data": {
      "text/plain": [
       "'\" wonder woman begins on the paradisiacal island home of the amazons, a mythical tribe of warrior women sent to earth to protect humans from their basest impulses. when world war i spills onto the island shores, the film titular heroine, diana (gal gadot), leaves its relative safety to help american spy steve trevor (chris pine) deliver a german laboratory notebook to british intelligence. that notebook, stolen from a german chemist nicknamed dr. poison, contains the germans’ newest superweapon: it is a formula for a new kind of gas, mustard gas, diana explains, translating the notebook for britain military leaders. hydrogen-based instead of sulfur. gas masks would be useless against hydrogen! gasps one of those leaders. even in a film that includes a magical island created by zeus himself, these details about the gas are so strangely specific that they deserve a little fact-checking. chemically speaking, does this formula make any sense?not really. first off, mustard gas is such a horrible, terrifying weapon, it does not need to be made more potent. but if you were a chemist bent on raining destruction on the allied forces, you would not do it by replacing the sulfur atom in mustard gas with a hydrogen atom. you would know that sulfur is the linchpin holding together this poisonous molecule. video: warner bros. pictures the souped-up mustard gas in wonder woman can crack glass. it is got a bat-like structure, explains raychelle burks, a chemistry professor at st. edward university in texas. sulfur smack in the middle, and then you have got two bat wings that come out — and they are kind of crinkly cut. both of those bat wings are made up of two carbon atoms and capped with a chlorine. the four carbon atoms each sprout two little tufts of hydrogen fuzz, for a total of eight hydrogen atoms. although there is a villain in a human form, the race against time is a chemistry one.so, mustard gas — also known as sulfur mustard — has plenty of hydrogen already. and an additional hydrogen could not replace sulfur, because hydrogen only likes to bond to one other atom at a time. unlike sulfur, hydrogen does not have enough spare hands to hold on to both bat wings. still, burks says, the film does get the prominent role of chemistry in wwi right. although there is a villain in a human form, the race against time is a chemistry one, she says. in that way, they did capture world war i as being a chemist war. image by ben mills/wikimedia commons the chemical structure of mustard gas, with sulfur (yellow) in the middle connected to two wings. both wings contain two carbon atoms (black), each bound to two hydrogen atoms (white). chlorine atoms (green) bracket the entire structure on either end. the real-life dr. poison was a german chemist named fritz haber. he won the nobel prize for the breakthrough that made the large-scale production of fertilizer possible. he also spearheaded germany chemical weapons program, and presided over the first successful use of a chemical weapon during world war i: not mustard gas, but chlorine. with the help of the wind, the germans wafted chlorine gas across the allies’ trenches on a spring day in 1915 and killed more than 1,100 soldiers, writes sarah everts in chemical engineering news. this experiment in chemical warfare sparked an arms race that earned world war i the moniker the chemist war, despite an international ban on chemical weapons. everts quotes german officer rudolf binding, who wrote: i am not pleased with the idea of poisoning men. of course, the entire world will rage about it at first and then imitate us.each new chemical agent was met with a more sophisticated countermeasurebinding was right. a twisted call-and-response ensued — where each new chemical agent was met with a more sophisticated countermeasure. (among the earliest defenses against chlorine gas were urine-soaked handkerchiefs the ammonia in urine could render the chlorine relatively harmless.) but when the germans first weaponized mustard gas in 1917, it presented a new challenge. contrary to its name, mustard gas does not actually have any mustard in it. (it named for its mustard-like odor.) nor is it a gas. soon known as the \\'king of the battle gases,’ mustard gas is actually an oily liquid that can pass through leather, rubber, and most textiles, everts writes. image: wikimedia commons this canadian soldier has blisters caused by mustard gas. artillery shells filled with mustard gas rained tiny droplets onto the battlefield that did not need to be inhaled to inflict mass casualties. they soaked into the soldiers’ uniforms and covered their skin, causing a delayed reaction. hours after exposure, soldiers would start to vomit, and their skin would burn. huge blisters would form, and, if they inhaled the mustard gas, the lining of their lungs sloughed off. many went at least temporarily blind. both recovery and death were slow and agonizing. and the oil persisted on soldiers’ bodies and in the environment, where mortars could kick up residual mustard gas that had settled onto the soil months before. wonder woman does not show the gruesome effects of the hydrogen-based mustard gas on people. instead, we see it shriveling a gas mask (which is not how mustard gas works), cracking glass (it can’t), and exploding in an airplane, which goes up like a chemical-tainted hindenburg. it seemed like the filmmakers wanted to make the gas more flammable, burks speculates, and people might equate hydrogen with flames. like \\'can we have a chimera?’ and the answer is \\'no. you cannot.’you do not need to be the big, scary monster. no, this is scarier than that.still, the film captures the aftermath and horror of chemical weapons in a scene where the germans bomb a village with artillery shells containing the fictionally souped-up mustard gas. an orange mist floats low over the ground as diana walks through to find scattered bodies. the thing that caused that devastation? a tiny molecule you cannot fight with your fists, or with weapons. once that creeping mist catches you, it is too late. bigger is not scarier, burks says. you do not need to be the big, scary monster. no, this is scarier than that. and it is a teeny, teeny molecule. wonder woman is a superhero movie, so it does not give anything away to say that diana beats the bad guy in the end. but knowing that chemical weapons continue to be used even today touches that victory with a sense of futility, which the filmmakers seem to have intended. after all, humans will continue to dream up new, horrific ways of hurting one another. but wonder woman gives us a chance to escape to an imaginary world — where there is someone or something out there, trying to stop us. \"'"
      ]
     },
     "execution_count": 284,
     "metadata": {},
     "output_type": "execute_result"
    }
   ],
   "source": [
    "cont[118]"
   ]
  },
  {
   "cell_type": "code",
   "execution_count": 285,
   "metadata": {},
   "outputs": [],
   "source": [
    "y=[]\n",
    "src=open(\"clean_art.txt\",\"w\")\n",
    "for i in cont:\n",
    "    new=re.sub(r'[$\"()):@=><]',' ',i)\n",
    "    new=re.sub(r\",\",'',new)\n",
    "    new=re.sub('[—-]',' ',new)\n",
    "    new=re.sub(r'[?]','.',new)\n",
    "    new=re.sub(r'\\b[a-z]\\b','',new)\n",
    "    new=re.sub('mr.','',new)\n",
    "    new=re.sub(r'[’]','',new)\n",
    "    new=re.sub(\"'\",'',new)\n",
    "    new=re.sub(r\"•\",'',new)\n",
    "    new=re.sub(\"»\",'',new)\n",
    "    new=re.sub(\"]\",'',new)\n",
    "    new=re.sub(\"[_]+\",'',new)\n",
    "    new=re.sub(r\"&ampld[\\w]*\\b\",'',new)\n",
    "    new=re.sub(r'\\\\xa[\\d]*',' ',new)\n",
    "    new=re.sub(r'\\\\',' ',new)\n",
    "    new=re.sub(r\"#[\\w]*\\b\",'',new)\n",
    "    new=re.sub(r\"\\b\\d+\\b\",'',new)\n",
    "    new=re.sub(\"[[]\",'',new)\n",
    "    new=re.sub(\"[*]\",' ',new)\n",
    "    new=(re.sub(r'[\\s]+',' ',new)).strip()\n",
    "    y.append(new)\n",
    "    src.write(new+'\\n')\n",
    "src.close()"
   ]
  },
  {
   "cell_type": "code",
   "execution_count": 290,
   "metadata": {},
   "outputs": [
    {
     "data": {
      "text/plain": [
       "'two decades ago bill reilly wryly resentful everyman act became the foundation upon which the fox news founder roger ailes built the right leaning television monopoly that the network became and remains today . now with reilly out on the market after his ouster from fox news over sexual harassment allegations fox much smaller rivals believe reilly could do the same for them help them cut into fox prime time conservative hegemony after years of trying. reilly needs to have platform and voice he is got an important one and we are very open to having that discussion with him said christopher ruddy the founder of newsmax conservative leaning news network and website. ruddy close associate of president trump said his interest was serious and not hot air. charles herring whose family company herring networks owns the newer and still smaller but no less ambitious conservative cable network one america news network said in an email one america news has reached out and spoken directly with reilly and separately with his agent. and then there is sinclair broadcast group which is already the country largest television station group but aims to become even bigger with its proposed takeover of tribune media. sinclair which has drawn scrutiny for pushing conservative skewing segments onto its local newscasts says it is not moving on reilly. but no one is counting it out including rupert murdoch the 21st century fox founding chairman who is paying close attention to sinclair and newsmax am told by people with direct knowledge of his thinking. whether reilly would go any of those routes and whether the advertising boycott that contributed to his fox ouster would make picking him up prohibitive remains to be seen. reilly representatives declined to comment on his plans . and challenging fox is no small undertaking. its cable news winning streak is now years old. but make no mistake things are in flux as never before in the fox news era and big movements are afoot that could change the cable news dynamic of the past two decades. that in turn could have an outsize effect on the national political scene given the big part fox has played in driving the public discourse since ailes founded it with murdoch in . fox news made its rise to first place in the ratings during the presidency of george . bush with an america first approach that gave the bush white house boost during the post / war efforts. we just do not assume that america wrong first ailes told me at the time. but then when barack obama assumed the presidency fox news personalities played prominent roles in promoting the president tea party opposition the campaign against his health care bill and even the so called birther campaign questioning his citizenship. but the network influence has been most acute in republican politics. several presidential candidates over the past couple of election cycles had either worked for ailes as contributors at some point or shared friendship with him as trump did. on friday my colleague bret stephens conservative columnist captured the two views on the right of ailes who died last week. on the one hand he wrote virtually nobody did more than ailes to broaden the reach of conservative ideas among the american public. but he also pointed out that if ailes broadened he also debased embracing populism for populism sake and ushering in the trump presidency. he was hardly alone in saying fox news and ailes contributed greatly to trump political success. to the extent that there is something to that and there certainly is it comes from fox unique place in conservative media. in its early years fox news was the prime time megaphone of what was then referred to as the conservative echo chamber. over the years however the rest of the conservative media factionalized like the republican party itself with new players like breitbart providing decidedly different views than those of the wall street journal editorial page or the weekly standard. the idea of single conservative echo chamber seems quaint. but not on television where fox news is so often the echo chamber. the question is what happens if that changes. it does not seem likely to happen anytime soon. but in years of closely covering the network have never seen it in such vulnerable position. think about it. in the last year it has lost its founding chairman the prime time star megyn kelly its .. host greta van susteren and most significantly reilly. given the turmoil it is impressive that fox news remains the most watched cable news network coming off the most profitable year in its history despite ailes own ouster in july over sexual harassment allegations. but as it embarks on rebuilding period replete with fresh start new newsroom where ailes office had been there have been warning signs. one came last week when fox news lost to msnbc and cnn in the prime time age category important to advertisers. that could have been an anomaly result of the news involving the investigation into the trump administration and russia which true to form fox covered less than cnn and msnbc. but it may not have been. and that rare hint of vulnerability has tantalized fox rivals. both newsmax and one america news network view scooping up reilly as way to turbocharge their growth. polls have shown most of his viewers would follow him to another network. there surprise throughout the television world that fox did not include stricter clause prohibiting him from working for competitor as part of an exit package estimated to be worth up to million. fox news could comfort itself that ruddy newsmax for instance is in only about million homes. but ruddy tells me it will be in million homes as of this summer far less than fox million but big jump nonetheless. of course the protest groups behind the advertising boycott that prompted fox news to oust reilly would certainly have something to say about any move to bring him back to television. as the national organization for women president terry neill said to me any network that hires him what they are doing is sending message to women we do not care about sexual harassment. newsmax and one america news network said they took the charges against reilly seriously and would vet them before hiring him. murdoch who has taken hands on role at fox news is keenly focused on the possibility that newsmax would team up with the much larger sinclair to hire reilly two people with direct knowledge of his thinking told me 21st century fox had no comment . ruddy did not shoot the notion down. noting that he and sinclair executive chairman david . smith meet from time to time he said would be very open to partnering with him or working with him in some way. newsmax has something sinclair holder of disparate local stations does not have an already functioning nationally focused hour news network. it is conceivable that newsmax with reilly in its stable could simulcast its programming on sinclair digital channels. it is equally possible sinclair could buy newsmax outright and combine it with the wgn america cable network it would acquire in the tribune deal though ruddy said he had no plans to sell. sinclair had no comment other than to say it was not seeking to hire reilly. fox proved there is huge and incredible market that has been percent ignored by the mainstream media networks and it is been in blue ocean territory since its founding said ruddy who has also been mentioned as potential ailes successor at fox. personally think it is ridiculous want to get into that market. it would take tremendous effort and it would be exceedingly difficult. but am old enough to remember when people said that about fox news.'"
      ]
     },
     "execution_count": 290,
     "metadata": {},
     "output_type": "execute_result"
    }
   ],
   "source": [
    "y[181883]"
   ]
  },
  {
   "cell_type": "code",
   "execution_count": 9,
   "metadata": {},
   "outputs": [
    {
     "data": {
      "text/plain": [
       "'\"      While Nokia is preparing to release a Lumia 525 at the very low end focused on music, the company is also readying a large-screen handset in the same budget category. Twitter account Evleaks first published the \"\"Batman\"\" codename, and sources familiar with Nokia\\'s plans have revealed to The Verge that a handset will fit into Nokia\\'s portfolio of devices just above the existing Lumia 625. Nokia picked a 4.7-inch display for the 625, and we\\'re told that the company will ship Batman with a large-screen too.We understand that the handset is designed as the top low-end Windows Phone, but the specs will be similar to the existing Lumia 625. Nokia is said to be including a 5-megapixel rear camera on the Batman and a forward-facing VGA camera.  Although it\\'s a low-end device, Nokia is planning to ship it with its new Nokia Camera app that combines the Pro and Smart Cam features of its existing apps. The Batman will likely debut later this year and it joins other devices including the 6-inch Lumia 1520 and a 5-inch Lumia 929. Nokia\\'s Lumia 1520 and Lumia 929 devices will sit alongside the Lumia 1020 as the high-end Windows Phones for this holiday season.\"\\n'"
      ]
     },
     "execution_count": 9,
     "metadata": {},
     "output_type": "execute_result"
    }
   ],
   "source": [
    "x[1118]"
   ]
  }
 ],
 "metadata": {
  "kernelspec": {
   "display_name": "Python 3",
   "language": "python",
   "name": "python3"
  },
  "language_info": {
   "codemirror_mode": {
    "name": "ipython",
    "version": 3
   },
   "file_extension": ".py",
   "mimetype": "text/x-python",
   "name": "python",
   "nbconvert_exporter": "python",
   "pygments_lexer": "ipython3",
   "version": "3.6.5"
  }
 },
 "nbformat": 4,
 "nbformat_minor": 2
}
